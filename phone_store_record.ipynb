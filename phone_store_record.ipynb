{
 "cells": [
  {
   "cell_type": "code",
   "execution_count": 1,
   "id": "bc7c3a21",
   "metadata": {},
   "outputs": [],
   "source": [
    "class Mobile():\n",
    "    def __init__(self, name, model_no, price, stock):\n",
    "        self.name = name\n",
    "        self.model_no = model_no\n",
    "        self.price = price\n",
    "        self.stock = stock\n",
    "        "
   ]
  },
  {
   "cell_type": "code",
   "execution_count": null,
   "id": "a9a79444",
   "metadata": {},
   "outputs": [],
   "source": []
  },
  {
   "cell_type": "code",
   "execution_count": 11,
   "id": "e9136c27",
   "metadata": {},
   "outputs": [
    {
     "name": "stdout",
     "output_type": "stream",
     "text": [
      "0: Exit\n",
      "1: Add mobile\n",
      "2: remove mobile\n",
      "3: Display stock\n",
      "select option1\n",
      "Enter mobile companydffd\n",
      "Enter mobile modelsd\n",
      "Enter mobile cost (ex : 5000)2222\n",
      "enter no of mobiles to add22\n",
      "successfully Entered\n",
      "\n",
      "0: Exit\n",
      "1: Add mobile\n",
      "2: remove mobile\n",
      "3: Display stock\n",
      "select option3\n",
      "name   phone model price  stock\n",
      "loop\n",
      "dffd sd 2222 22\n",
      "0: Exit\n",
      "1: Add mobile\n",
      "2: remove mobile\n",
      "3: Display stock\n",
      "select option0\n"
     ]
    }
   ],
   "source": [
    "mobiles = {}\n",
    "loop = 1\n",
    "while loop:\n",
    "    print(\"\\n\\n0: Exit\\n1: Add mobile\\n2: remove mobile\\n3: Display stock\")\n",
    "    try:\n",
    "        loop = int(input(\"select option\"))\n",
    "        if(loop == 1):\n",
    "            mobile_name = input(\"Enter mobile company\")\n",
    "            mobile_model = input(\"Enter mobile model\")\n",
    "            key = mobile_name + \" \" + mobile_model\n",
    "            key = key.lower()\n",
    "            mobile_cost = int(input(\"Enter mobile cost (ex : 5000)\"))\n",
    "            stock = int(input(\"enter no of mobiles to add\"))\n",
    "            if key in mobiles:\n",
    "                phone_stock = mobiles[key]\n",
    "                phone_stock.price = cost\n",
    "                phone_stock.stock = phone_stock.stock + stock\n",
    "                print(\"successfully Entered\\n\")\n",
    "            else:\n",
    "                mob = Mobile(mobile_name, mobile_model, mobile_cost, stock)\n",
    "                mobiles[key] = mob\n",
    "                print(\"successfully Entered\\n\")\n",
    "        elif(loop == 2):\n",
    "            mobile_name = input(\"Enter mobile company\")\n",
    "            mobile_model = input(\"Enter mobile model\")\n",
    "            key = mobile_name + \" \" + mobile_model\n",
    "            key = key.lower()\n",
    "            stock = int(input(\"Enter no of mobiles\"))\n",
    "            if key in mobiles:\n",
    "                phone_stock = mobiles[key]\n",
    "                if phone_stock.stock >= stock:\n",
    "                    phone_stock.stock = phone_stock.stock - stock\n",
    "                    print(\"successfully removed\\n\")\n",
    "                else:\n",
    "                    print(\"only\", phone_stock.stock, \"present\\n\")\n",
    "\n",
    "        elif(loop == 3):\n",
    "        \n",
    "            print(\"name   phone model price  stock\")\n",
    "            for cell in mobiles:\n",
    "                \n",
    "                phones = mobiles[cell]\n",
    "                print(phones.name, phones.model_no, phones.price, phones.stock)\n",
    "        elif(loop != 0):\n",
    "            print(\"wrong selection\\n\")\n",
    "    except:\n",
    "        print(\"please enter whole number only\")"
   ]
  },
  {
   "cell_type": "code",
   "execution_count": null,
   "id": "f1c26804",
   "metadata": {},
   "outputs": [],
   "source": []
  },
  {
   "cell_type": "code",
   "execution_count": null,
   "id": "dd2e881a",
   "metadata": {},
   "outputs": [],
   "source": []
  }
 ],
 "metadata": {
  "kernelspec": {
   "display_name": "Python 3 (ipykernel)",
   "language": "python",
   "name": "python3"
  },
  "language_info": {
   "codemirror_mode": {
    "name": "ipython",
    "version": 3
   },
   "file_extension": ".py",
   "mimetype": "text/x-python",
   "name": "python",
   "nbconvert_exporter": "python",
   "pygments_lexer": "ipython3",
   "version": "3.8.10"
  }
 },
 "nbformat": 4,
 "nbformat_minor": 5
}
